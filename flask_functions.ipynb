{
 "cells": [
  {
   "cell_type": "code",
   "execution_count": 2,
   "metadata": {},
   "outputs": [
    {
     "data": {
      "text/html": [
       "<div>\n",
       "<style scoped>\n",
       "    .dataframe tbody tr th:only-of-type {\n",
       "        vertical-align: middle;\n",
       "    }\n",
       "\n",
       "    .dataframe tbody tr th {\n",
       "        vertical-align: top;\n",
       "    }\n",
       "\n",
       "    .dataframe thead th {\n",
       "        text-align: right;\n",
       "    }\n",
       "</style>\n",
       "<table border=\"1\" class=\"dataframe\">\n",
       "  <thead>\n",
       "    <tr style=\"text-align: right;\">\n",
       "      <th></th>\n",
       "      <th>Unnamed: 0</th>\n",
       "      <th>delivery_country</th>\n",
       "      <th>product_line</th>\n",
       "      <th>task_type_en</th>\n",
       "      <th>baseline_st</th>\n",
       "    </tr>\n",
       "  </thead>\n",
       "  <tbody>\n",
       "    <tr>\n",
       "      <th>0</th>\n",
       "      <td>97</td>\n",
       "      <td>MY</td>\n",
       "      <td>Non-Auction Ads</td>\n",
       "      <td>Promote</td>\n",
       "      <td>0.54</td>\n",
       "    </tr>\n",
       "    <tr>\n",
       "      <th>1</th>\n",
       "      <td>131</td>\n",
       "      <td>TH</td>\n",
       "      <td>Non-Auction Ads</td>\n",
       "      <td>Promote</td>\n",
       "      <td>0.54</td>\n",
       "    </tr>\n",
       "    <tr>\n",
       "      <th>2</th>\n",
       "      <td>128</td>\n",
       "      <td>US</td>\n",
       "      <td>Non-Auction Ads</td>\n",
       "      <td>Promote</td>\n",
       "      <td>0.54</td>\n",
       "    </tr>\n",
       "    <tr>\n",
       "      <th>3</th>\n",
       "      <td>123</td>\n",
       "      <td>DE</td>\n",
       "      <td>Non-Auction Ads</td>\n",
       "      <td>Promote</td>\n",
       "      <td>0.54</td>\n",
       "    </tr>\n",
       "    <tr>\n",
       "      <th>4</th>\n",
       "      <td>121</td>\n",
       "      <td>TR</td>\n",
       "      <td>Non-Auction Ads</td>\n",
       "      <td>Promote</td>\n",
       "      <td>0.54</td>\n",
       "    </tr>\n",
       "  </tbody>\n",
       "</table>\n",
       "</div>"
      ],
      "text/plain": [
       "   Unnamed: 0 delivery_country     product_line task_type_en  baseline_st\n",
       "0          97               MY  Non-Auction Ads      Promote         0.54\n",
       "1         131               TH  Non-Auction Ads      Promote         0.54\n",
       "2         128               US  Non-Auction Ads      Promote         0.54\n",
       "3         123               DE  Non-Auction Ads      Promote         0.54\n",
       "4         121               TR  Non-Auction Ads      Promote         0.54"
      ]
     },
     "execution_count": 2,
     "metadata": {},
     "output_type": "execute_result"
    }
   ],
   "source": [
    "import pandas as pd\n",
    "\n",
    "# Load the Excel file into a DataFrame\n",
    "df = pd.read_excel(\"./EDA/Datasets/st_combinations.xlsx\")\n",
    "df.head()"
   ]
  },
  {
   "cell_type": "code",
   "execution_count": 3,
   "metadata": {},
   "outputs": [
    {
     "data": {
      "text/plain": [
       "{('MY', 'Non-Auction Ads', 'Promote'): 0.54,\n",
       " ('TH', 'Non-Auction Ads', 'Promote'): 0.54,\n",
       " ('US', 'Non-Auction Ads', 'Promote'): 0.54,\n",
       " ('DE', 'Non-Auction Ads', 'Promote'): 0.54,\n",
       " ('TR', 'Non-Auction Ads', 'Promote'): 0.54}"
      ]
     },
     "execution_count": 3,
     "metadata": {},
     "output_type": "execute_result"
    }
   ],
   "source": [
    "# Convert the DataFrame to a dictionary using the three specified columns as a key\n",
    "st_dict = {}\n",
    "\n",
    "for index, row in df.iterrows():\n",
    "    key = (row['delivery_country'], row['product_line'], row['task_type_en'])\n",
    "    value = row['baseline_st']\n",
    "    st_dict[key] = value\n",
    "\n",
    "# Check the first few entries in the dictionary\n",
    "dict(list(st_dict.items())[:5])"
   ]
  },
  {
   "cell_type": "code",
   "execution_count": 4,
   "metadata": {},
   "outputs": [
    {
     "data": {
      "text/plain": [
       "0.54"
      ]
     },
     "execution_count": 4,
     "metadata": {},
     "output_type": "execute_result"
    }
   ],
   "source": [
    "def get_baseline_st(delivery_country, product_line, task_type_en):\n",
    "    \"\"\"\n",
    "    Queries the dictionary to retrieve the baseline_st given the input parameters.\n",
    "    \n",
    "    Parameters:\n",
    "    - delivery_country (str): The delivery country\n",
    "    - product_line (str): The product line\n",
    "    - task_type_en (str): The task type in English\n",
    "    \n",
    "    Returns:\n",
    "    - float: The baseline_st for the given combination or None if the combination is not found.\n",
    "    \"\"\"\n",
    "    \n",
    "    return st_dict.get((delivery_country, product_line, task_type_en), None)\n",
    "\n",
    "# Test the function with a sample query\n",
    "test_country = \"MY\"\n",
    "test_product_line = \"Non-Auction Ads\"\n",
    "test_task_type_en = \"Promote\"\n",
    "\n",
    "get_baseline_st(test_country, test_product_line, test_task_type_en)\n"
   ]
  }
 ],
 "metadata": {
  "kernelspec": {
   "display_name": "base",
   "language": "python",
   "name": "python3"
  },
  "language_info": {
   "codemirror_mode": {
    "name": "ipython",
    "version": 3
   },
   "file_extension": ".py",
   "mimetype": "text/x-python",
   "name": "python",
   "nbconvert_exporter": "python",
   "pygments_lexer": "ipython3",
   "version": "3.10.10"
  },
  "orig_nbformat": 4
 },
 "nbformat": 4,
 "nbformat_minor": 2
}
