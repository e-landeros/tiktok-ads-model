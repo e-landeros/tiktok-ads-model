{
 "cells": [
  {
   "cell_type": "code",
   "execution_count": 269,
   "metadata": {},
   "outputs": [],
   "source": [
    "import pandas as pd\n",
    "import random\n",
    "from itertools import product\n",
    "\n",
    "# Load the data\n",
    "moderator_data = pd.read_excel(\"./Scoring/moderator_scored.xlsx\")"
   ]
  },
  {
   "cell_type": "markdown",
   "metadata": {},
   "source": [
    "# Moderator Matching Algorithm\n",
    "**Purpose:**\n",
    "- Increase Revenue: By matching the best reviewers with the top priority ads, we ensure that high-quality ads get the attention they deserve, leading to better user experience and potentially higher revenue\n",
    "\n",
    "- Improve Resource Utilization: By dynamically allocating tasks based on moderator capacity and expertise, we aim to increase the utilization of ad moderators by at most 10%"
   ]
  },
  {
   "cell_type": "code",
   "execution_count": 270,
   "metadata": {},
   "outputs": [],
   "source": [
    "ads_dataset = pd.read_excel(\"./Scoring/ads_with_score.xlsx\", nrows = 30000)"
   ]
  },
  {
   "cell_type": "markdown",
   "metadata": {},
   "source": [
    "# Gurobipy Optimization Model (Moderators)\n",
    "1. **Decision Variables**\n",
    "- For each ad and each moderator, a binary decision variable is created to represent whether the ad is assigned to the moderator (1) or not (0)\n",
    "\n",
    "2. **Objective Function**\n",
    "- The first objective function to minimize the difference between ad's score and moderator's score, this ensures that the top ads get matched with the best moderators\n",
    "- The second objective function is with regards to the confidence of the ad, which is defined as how confident our model is in identifying whether there is a possible violation in the ad\n",
    "    - If confidence is high, the ad is \"easier\" to moderator as it is easy to spot whether there is a violation. Hence the ad will be allocated to moderators that have high productivity so the ad can be cleared quickly, and low accuracy as a tradeoff\n",
    "    - For ads with low confidence, it will be allocated to moderators that have high accuracy so that violations can be correctly identified, with the tradeoff being low productivity\n",
    "- Combining these two objective functions, the overall objective function is as follows:\n",
    "$$\n",
    "\\text{Minimize: } \\sum_{\\text{ad, mod}} \\left| \\beta_1 (ad\\_score - moderator\\_score) + \\beta_2 (ad\\_confidence - normalized\\_productivity + normalized\\_accuracy) \\right|\n",
    "$$\n",
    "\n",
    "The coefficients $\\beta_1$ and $\\beta_2$ in the objective function represent weights that determine the importance of matching `ad_score` with `moderator_score` and `ad_confidence` with `normalized_productivity` and `normalized_accuracy`, respectively. Ideally, these coefficients should be derived from an iterative training and optimization process of the Gurobi model. By analyzing the results over multiple iterations and adjusting these coefficients, one can refine the model's performance and achieve better task allocations that meet specific business objectives.\n",
    "\n",
    "However, due to constraints in our current setup, we are unable to conduct this iterative training. As a result, for the purpose of this demonstration, we are using placeholder values for $\\beta_1$ and $\\beta_2$, both assumed to be 0.5. This means that, in our current model, both parts of the objective function are given equal importance. \n",
    "\n",
    "3. **Constraints**\n",
    "- One ad should only be allocated 1 moderator\n",
    "- The total tasks allocated to each moderator cannot exceed their max_tasks_per_day\n",
    "- The delivery_country of the ad must match the market of the moderator\n",
    "- If moderator's category expertise is not null, expertise must match category of ad\n",
    "- If null, each moderator can only be assigned a maximum of 3 ad categories a day\n",
    "    - This is to ensure that the moderator's work is more focused to improve productivity"
   ]
  },
  {
   "cell_type": "code",
   "execution_count": 271,
   "metadata": {},
   "outputs": [],
   "source": [
    "from gurobipy import Model, GRB\n",
    "\n",
    "# Initialize the Gurobi model\n",
    "m = Model(\"AdTaskAllocation\")\n",
    "\n",
    "# Create the decision variables\n",
    "x = {(ad_id, mod): m.addVar(vtype=GRB.BINARY, name=f\"x_{ad_id}_{mod}\")\n",
    "     for ad_id in ads_dataset['ad_id']\n",
    "     for mod in moderator_data['moderator']}"
   ]
  },
  {
   "cell_type": "code",
   "execution_count": 272,
   "metadata": {},
   "outputs": [],
   "source": [
    "# Set the objective function\n",
    "m.setObjective(sum(x[ad_row['ad_id'], mod_row['moderator']] * abs(0.5 * (ad_row['ad_score'] - mod_row['moderator_score']) + \n",
    "    0.5 * (ad_row['confidence'] - mod_row['normalized_productivity'] + mod_row['normalized_accuracy'])) \n",
    "                for _, ad_row in ads_dataset.iterrows() for _, mod_row in moderator_data.iterrows()), GRB.MINIMIZE)"
   ]
  },
  {
   "cell_type": "code",
   "execution_count": 273,
   "metadata": {},
   "outputs": [],
   "source": [
    "# Constraints 1-5\n",
    "\n",
    "# Each ad should be allocated to only one moderator\n",
    "for _, ad_row in ads_dataset.iterrows():\n",
    "    ad_id = ad_row['ad_id']\n",
    "    m.addConstr(sum(x[ad_id, mod_row['moderator']] for _, mod_row in moderator_data.iterrows()) == 1)\n",
    "\n",
    "# The total tasks assigned to a moderator should not exceed their max tasks per day\n",
    "for _, mod_row in moderator_data.iterrows():\n",
    "    mod = mod_row['moderator']\n",
    "    m.addConstr(sum(x[ad_row['ad_id'], mod] for _, ad_row in ads_dataset.iterrows()) <= mod_row['max_tasks_per_day'])\n",
    "\n",
    "# Only assign an ad to a moderator if the ad's market matches the moderator's market\n",
    "\n",
    "# Preprocess moderator data into a dictionary by market\n",
    "moderator_market_dict = {}\n",
    "for _, mod_row in moderator_data.iterrows():\n",
    "    mod = mod_row['moderator']\n",
    "    market = eval(mod_row['market'])\n",
    "    for i in market:\n",
    "        if i not in moderator_market_dict:\n",
    "            moderator_market_dict[i] = []\n",
    "        moderator_market_dict[i].append(mod)\n",
    "\n",
    "for _, ad_row in ads_dataset.iterrows():\n",
    "    ad_id = ad_row['ad_id']\n",
    "    ad_market = ad_row['delivery_country']\n",
    "\n",
    "    # Get the list of moderators that match the ad's market from the preprocessed dictionary\n",
    "    matching_mods = moderator_market_dict.get(ad_market, [])\n",
    "\n",
    "    # Get all the moderators\n",
    "    all_mods = moderator_data['moderator'].tolist()\n",
    "\n",
    "    # For each moderator, if they are in the matching moderators list,\n",
    "    # set their assignment variable for the current ad to 1. Otherwise, set it to 0.\n",
    "    for mod in all_mods:\n",
    "        if mod in matching_mods:\n",
    "            m.addConstr(x[ad_id, mod] <= 1)  # Allow matching moderators to be assigned the ad\n",
    "        else:\n",
    "            m.addConstr(x[ad_id, mod] == 0)  # Non-matching moderators cannot be assigned the ad\n",
    "\n",
    "# Extract unique ad categories\n",
    "unique_categories = ads_dataset['category'].unique()\n",
    "\n",
    "# Constraint 4\n",
    "y = {}  # Store the binary variable y_{moderator, category}\n",
    "for _, mod_row in moderator_data.iterrows():\n",
    "    expertise = eval(mod_row['expertise'])\n",
    "    if not expertise:  # If the expertise list is empty\n",
    "        for category in unique_categories:\n",
    "            y[mod_row['moderator'], category] = m.addVar(vtype=GRB.BINARY, name=f\"y_{mod_row['moderator']}_{category}\")\n",
    "            \n",
    "            # If the moderator is assigned at least one ad of that category, y should be 1\n",
    "            m.addConstr(sum(x[ad_row['ad_id'], mod_row['moderator']] for _, ad_row in ads_dataset[ads_dataset['category'] == category].iterrows()) >= y[mod_row['moderator'], category])\n",
    "        \n",
    "        # Sum of all y for this moderator should be <= 3\n",
    "        m.addConstr(sum(y[mod_row['moderator'], category] for category in unique_categories) <= 3)\n",
    "\n",
    "# Constraint 5\n",
    "for _, mod_row in moderator_data.iterrows():\n",
    "    expertise = eval(mod_row['expertise'])\n",
    "    if expertise:  # If the expertise list is not empty\n",
    "        for _, ad_row in ads_dataset.iterrows():\n",
    "            if ad_row['category'] not in expertise:\n",
    "                m.addConstr(x[ad_row['ad_id'], mod_row['moderator']] == 0)  # This ad should not be assigned to this"
   ]
  },
  {
   "cell_type": "code",
   "execution_count": null,
   "metadata": {},
   "outputs": [],
   "source": [
    "# Solve the model\n",
    "m.optimize()"
   ]
  },
  {
   "cell_type": "code",
   "execution_count": null,
   "metadata": {},
   "outputs": [],
   "source": [
    "# Extract the assignments from the solution\n",
    "assignments = {}\n",
    "for _, ad_row in ads_dataset.iterrows():\n",
    "    for _, mod_row in moderator_data.iterrows():\n",
    "        if x[ad_row['ad_id'], mod_row['moderator']].x > 0.5:  # If this ad is assigned to this moderator\n",
    "            assignments[ad_row['ad_id']] = mod_row['moderator']\n",
    "\n",
    "assignments"
   ]
  },
  {
   "cell_type": "code",
   "execution_count": 267,
   "metadata": {},
   "outputs": [],
   "source": [
    "# Convert the dictionary of assignments into a DataFrame\n",
    "assignments_df = pd.DataFrame(list(assignments.items()), columns=['ad_id', 'moderator'])\n",
    "\n",
    "# Count the number of ads assigned to each moderator\n",
    "assigned_counts = assignments_df.groupby('moderator').size().reset_index(name='num_ads_assigned')\n",
    "\n",
    "# Merge with the original moderator_data\n",
    "merged_data = pd.merge(moderator_data, assigned_counts, left_on='moderator', right_on='moderator', how='left')\n",
    "\n",
    "# Fill NaN values with 0 (for moderators with no assignments)\n",
    "merged_data['num_ads_assigned'].fillna(0, inplace=True)\n",
    "\n",
    "# Calculate the increase in utilization % and new utilization % for each moderator\n",
    "merged_data['increase_in_utilisation'] = (merged_data['num_ads_assigned'] * merged_data['handling time']) / (8 * 60 * 60 * 1000)\n",
    "merged_data['new_utilisation'] = merged_data['Utilisation %'] + merged_data['increase_in_utilisation']"
   ]
  },
  {
   "cell_type": "code",
   "execution_count": 268,
   "metadata": {},
   "outputs": [],
   "source": [
    "# Merge the ads dataset with the assignments dataframe to include the moderator assigned to each ad\n",
    "ads_with_moderator = pd.merge(ads_dataset, assignments_df, on='ad_id', how='left')\n",
    "\n",
    "# Fill NaN values with \"Not Assigned\" (for ads with no assignments)\n",
    "ads_with_moderator['moderator'].fillna(\"Not Assigned\", inplace=True)"
   ]
  }
 ],
 "metadata": {
  "kernelspec": {
   "display_name": "Python 3",
   "language": "python",
   "name": "python3"
  },
  "language_info": {
   "codemirror_mode": {
    "name": "ipython",
    "version": 3
   },
   "file_extension": ".py",
   "mimetype": "text/x-python",
   "name": "python",
   "nbconvert_exporter": "python",
   "pygments_lexer": "ipython3",
   "version": "3.10.10"
  },
  "orig_nbformat": 4
 },
 "nbformat": 4,
 "nbformat_minor": 2
}
