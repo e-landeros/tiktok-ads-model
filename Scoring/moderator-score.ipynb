{
 "cells": [
  {
   "cell_type": "code",
   "execution_count": 4,
   "metadata": {},
   "outputs": [],
   "source": [
    "import pandas as pd\n",
    "\n",
    "# Load moderator data\n",
    "normalized_data = pd.read_excel(\"../EDA/Datasets/moderator-data-cleaned.xlsx\")"
   ]
  },
  {
   "cell_type": "markdown",
   "metadata": {},
   "source": [
    "# Creating a Composite Scoring System for Moderators\n",
    "\n",
    "**Normalization**\n",
    "\n",
    "Since the 4 metrics (`Productivity`, `Utilisation %`, `handing time` and `accuracy`) are on different scales, normalization is required to scale them to a common scale. This ensures that no single metric disproportionately affects the composite score.\n",
    "\n",
    "We will use Min-Max scaling to normalize the features.\n",
    "\n",
    "**Scoring System**\n",
    "\n",
    "We will assume each metric has an equal weight of 1/4. Hence, the composite score will be computed by taking the average of the normalized values for each moderator."
   ]
  },
  {
   "cell_type": "code",
   "execution_count": 5,
   "metadata": {},
   "outputs": [
    {
     "data": {
      "text/html": [
       "<div>\n",
       "<style scoped>\n",
       "    .dataframe tbody tr th:only-of-type {\n",
       "        vertical-align: middle;\n",
       "    }\n",
       "\n",
       "    .dataframe tbody tr th {\n",
       "        vertical-align: top;\n",
       "    }\n",
       "\n",
       "    .dataframe thead th {\n",
       "        text-align: right;\n",
       "    }\n",
       "</style>\n",
       "<table border=\"1\" class=\"dataframe\">\n",
       "  <thead>\n",
       "    <tr style=\"text-align: right;\">\n",
       "      <th></th>\n",
       "      <th>moderator</th>\n",
       "      <th>composite_score</th>\n",
       "    </tr>\n",
       "  </thead>\n",
       "  <tbody>\n",
       "    <tr>\n",
       "      <th>344</th>\n",
       "      <td>6073125</td>\n",
       "      <td>0.727262</td>\n",
       "    </tr>\n",
       "    <tr>\n",
       "      <th>392</th>\n",
       "      <td>1743843711746081</td>\n",
       "      <td>0.708418</td>\n",
       "    </tr>\n",
       "    <tr>\n",
       "      <th>198</th>\n",
       "      <td>1714052438738946</td>\n",
       "      <td>0.681299</td>\n",
       "    </tr>\n",
       "    <tr>\n",
       "      <th>775</th>\n",
       "      <td>1774283521390594</td>\n",
       "      <td>0.679771</td>\n",
       "    </tr>\n",
       "    <tr>\n",
       "      <th>706</th>\n",
       "      <td>9879733</td>\n",
       "      <td>0.676433</td>\n",
       "    </tr>\n",
       "    <tr>\n",
       "      <th>56</th>\n",
       "      <td>5338213</td>\n",
       "      <td>0.667758</td>\n",
       "    </tr>\n",
       "    <tr>\n",
       "      <th>31</th>\n",
       "      <td>8585325</td>\n",
       "      <td>0.661654</td>\n",
       "    </tr>\n",
       "    <tr>\n",
       "      <th>1194</th>\n",
       "      <td>1912879</td>\n",
       "      <td>0.661326</td>\n",
       "    </tr>\n",
       "    <tr>\n",
       "      <th>243</th>\n",
       "      <td>1737386135461890</td>\n",
       "      <td>0.659245</td>\n",
       "    </tr>\n",
       "    <tr>\n",
       "      <th>403</th>\n",
       "      <td>1734415103300609</td>\n",
       "      <td>0.657748</td>\n",
       "    </tr>\n",
       "  </tbody>\n",
       "</table>\n",
       "</div>"
      ],
      "text/plain": [
       "             moderator  composite_score\n",
       "344            6073125         0.727262\n",
       "392   1743843711746081         0.708418\n",
       "198   1714052438738946         0.681299\n",
       "775   1774283521390594         0.679771\n",
       "706            9879733         0.676433\n",
       "56             5338213         0.667758\n",
       "31             8585325         0.661654\n",
       "1194           1912879         0.661326\n",
       "243   1737386135461890         0.659245\n",
       "403   1734415103300609         0.657748"
      ]
     },
     "execution_count": 5,
     "metadata": {},
     "output_type": "execute_result"
    }
   ],
   "source": [
    "# Normalizing the four metrics\n",
    "normalized_data['Productivity_norm'] = (normalized_data['Productivity'] - normalized_data['Productivity'].min()) / \\\n",
    "                                      (normalized_data['Productivity'].max() - normalized_data['Productivity'].min())\n",
    "\n",
    "normalized_data['Utilisation_norm'] = normalized_data['Utilisation %'] / 100  # Already a percentage, so just scaling it between 0 and 1\n",
    "\n",
    "# Handling time is inversed since lower is better\n",
    "normalized_data['handling_time_norm'] = 1 - ((normalized_data['handling time'] - normalized_data['handling time'].min()) / \\\n",
    "                                            (normalized_data['handling time'].max() - normalized_data['handling time'].min()))\n",
    "\n",
    "# Assuming accuracy is already between 0 and 1 since it's a probability. If not, we'd need to normalize it similarly to the other metrics.\n",
    "normalized_data['accuracy_norm'] = normalized_data['accuracy']\n",
    "\n",
    "# Computing the composite score by taking the average of the normalized values\n",
    "normalized_data['composite_score'] = normalized_data[['Productivity_norm', 'Utilisation_norm', 'handling_time_norm', 'accuracy_norm']].mean(axis=1)\n",
    "\n",
    "# Sorting the data by the composite score in descending order to see the top moderators\n",
    "sorted_moderators = normalized_data[['moderator', 'composite_score']].drop_duplicates().sort_values(by='composite_score', ascending=False)\n",
    "\n",
    "sorted_moderators.head(10)  # Displaying top 10 moderators based on composite score\n"
   ]
  },
  {
   "cell_type": "markdown",
   "metadata": {},
   "source": [
    "- The moderator with ID `6073125` has the highest composite score, making them the top-performing moderator based on the four metrics: Productivity, Utilisation %, Handling time, and Accuracy\n",
    "- The table above lists the top 10 moderators based on the composite score"
   ]
  }
 ],
 "metadata": {
  "kernelspec": {
   "display_name": "Python 3",
   "language": "python",
   "name": "python3"
  },
  "language_info": {
   "codemirror_mode": {
    "name": "ipython",
    "version": 3
   },
   "file_extension": ".py",
   "mimetype": "text/x-python",
   "name": "python",
   "nbconvert_exporter": "python",
   "pygments_lexer": "ipython3",
   "version": "3.10.6"
  },
  "orig_nbformat": 4
 },
 "nbformat": 4,
 "nbformat_minor": 2
}
