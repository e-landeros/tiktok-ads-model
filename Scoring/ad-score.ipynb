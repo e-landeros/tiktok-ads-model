{
 "cells": [
  {
   "cell_type": "code",
   "execution_count": 2,
   "metadata": {},
   "outputs": [],
   "source": [
    "import pandas as pd\n",
    "from sklearn.model_selection import train_test_split\n",
    "from sklearn.preprocessing import StandardScaler, OneHotEncoder\n",
    "from sklearn.compose import ColumnTransformer\n",
    "\n",
    "data = pd.read_excel(\"../EDA/Datasets/ad-data-cleaned.xlsx\")\n",
    "\n",
    "# Impute missing values in the 'days_since_last_punishment' column with 0 \n",
    "data.fillna({'days_since_last_punishment': 0}, inplace=True)"
   ]
  },
  {
   "cell_type": "markdown",
   "metadata": {},
   "source": [
    "# Data Preprocessing\n",
    "To build a stochastic optimization model to predict `ad_revenue`, we will use the below features:\n",
    "1. `queue_market`\n",
    "2. `punish_num`\n",
    "3. `avg_ad_revenue`\n",
    "4. `baseline_st` (derived from `delivery_country, product_line` and `task_type_en` as seen in EDA)\n",
    "5. `days_since_last_punishment`\n",
    "\n",
    "Before training the model, appropriate data preprocessing steps have to be taken:\n",
    "1. Encoding of Categorical Features\n",
    "2. Data Splitting into training and test sets\n",
    "3. Feature Scaling to standardize feature values"
   ]
  },
  {
   "cell_type": "code",
   "execution_count": 4,
   "metadata": {},
   "outputs": [
    {
     "data": {
      "text/plain": [
       "((31651, 61), (7913, 61))"
      ]
     },
     "execution_count": 4,
     "metadata": {},
     "output_type": "execute_result"
    }
   ],
   "source": [
    "# Extract relevant columns\n",
    "features = ['queue_market', 'punish_num', 'avg_ad_revenue', 'baseline_st', 'days_since_last_punishment']\n",
    "X = data[features]\n",
    "y = data['ad_revenue']\n",
    "\n",
    "# Split data into training and test sets\n",
    "X_train, X_test, y_train, y_test = train_test_split(X, y, test_size=0.2, random_state=42)\n",
    "\n",
    "# Set up preprocessing steps for the features\n",
    "# - One-hot encode the 'queue_market' column\n",
    "# - Standardize the numerical columns\n",
    "preprocessor = ColumnTransformer(\n",
    "    transformers=[\n",
    "        ('num', StandardScaler(), ['punish_num', 'avg_ad_revenue', 'baseline_st', 'days_since_last_punishment']),\n",
    "        ('cat', OneHotEncoder(drop='first'), ['queue_market'])\n",
    "    ])\n",
    "\n",
    "# Fit the preprocessor on the training data and transform both training and test data\n",
    "X_train_preprocessed = preprocessor.fit_transform(X_train)\n",
    "X_test_preprocessed = preprocessor.transform(X_test)\n",
    "\n",
    "X_train_preprocessed.shape, X_test_preprocessed.shape"
   ]
  }
 ],
 "metadata": {
  "kernelspec": {
   "display_name": "Python 3",
   "language": "python",
   "name": "python3"
  },
  "language_info": {
   "codemirror_mode": {
    "name": "ipython",
    "version": 3
   },
   "file_extension": ".py",
   "mimetype": "text/x-python",
   "name": "python",
   "nbconvert_exporter": "python",
   "pygments_lexer": "ipython3",
   "version": "3.10.6"
  },
  "orig_nbformat": 4
 },
 "nbformat": 4,
 "nbformat_minor": 2
}
