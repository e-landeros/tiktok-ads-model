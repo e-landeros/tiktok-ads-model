{
 "cells": [
  {
   "cell_type": "code",
   "execution_count": 60,
   "metadata": {},
   "outputs": [],
   "source": [
    "import pandas as pd\n",
    "import numpy as np\n",
    "\n",
    "data = pd.read_excel(\"../EDA/Datasets/ad-data-cleaned.xlsx\")\n",
    "\n",
    "# Impute missing values in the 'days_since_last_punishment' column with 91\n",
    "data.fillna({'days_since_last_punishment': 91}, inplace=True)"
   ]
  },
  {
   "cell_type": "markdown",
   "metadata": {},
   "source": [
    "# Ad Scoring System\n",
    "Before implementing the Ad Scoring System, two new features will be created\n",
    "\n",
    "1. `days_diff`: Number of days between the ad being uploaded on Ads Manager and when the advertiser wants the ad to start\n",
    "- Derived from `start_time` - `pdate`\n",
    "- If negative (which occurs for almost half of the data), impute with mean number of days among the positive values\n",
    "- Should have an inverse relationship with the ad score, the lower the `days_diff` the more urgent the ad is, hence the higher priority\n",
    "\n",
    "2. `tier`: Advertiser Tier\n",
    "- The `tier_score` of each advertiser is derived from the formula below:\n",
    "\n",
    "$$\n",
    "\\text{tier score} = \\beta_1 \\times \\text{avg ad revenue} + \\beta_2 \\times \\text{punish num} + \\beta_3 \\times \\text{days since last punishment}\n",
    "$$\n",
    "\n",
    "The coefficients $\\beta_1$, $\\beta_2$ and $\\beta_3$ represent weights that determine the importance of the features above. These coefficients ideally should be determined from calibrating and optimizing based on feedback and desired outcomes. However, for this we will assume $\\beta_1$ = 0.5, and $\\beta_2$ = $\\beta_3$ = 0.25\n",
    "\n",
    "- A unique score is derived for every advertiser (which can be found from unique `avg_ad_revenue`) and tier thresholds are calculated based on quantiles\n",
    "- Each advertiser is then assigned a `tier` from 1-10"
   ]
  },
  {
   "cell_type": "code",
   "execution_count": 66,
   "metadata": {},
   "outputs": [],
   "source": [
    "# Calculate days_diff\n",
    "data['days_diff'] = (data['start_time'] - data['p_date']).dt.days\n",
    "\n",
    "# Replace negative values with the mean of positive values\n",
    "mean_positive_days_diff = data[data['days_diff'] > 0]['days_diff'].mean()\n",
    "data['days_diff'] = data['days_diff'].apply(lambda x: mean_positive_days_diff if x < 0 else x)\n"
   ]
  },
  {
   "cell_type": "code",
   "execution_count": 67,
   "metadata": {},
   "outputs": [],
   "source": [
    "# Impute NaN values in the 'days_diff' column\n",
    "data['days_diff'].fillna(mean_positive_days_diff, inplace=True)"
   ]
  },
  {
   "cell_type": "code",
   "execution_count": 63,
   "metadata": {},
   "outputs": [],
   "source": [
    "# Calculate the new score for each advertiser using the revised formula\n",
    "data['tier_score'] = 0.5 * data['avg_ad_revenue'] - 0.25 * data['punish_num'] + 0.25 * data['days_since_last_punishment']\n",
    "\n",
    "# Group by advertiser (based on avg_ad_revenue) and get the unique score for each advertiser\n",
    "unique_advertisers_scores = data.drop_duplicates(subset='avg_ad_revenue')[['avg_ad_revenue', 'tier_score']]\n",
    "\n",
    "# Define tier thresholds based on quantiles for the new scores\n",
    "tier_thresholds = [unique_advertisers_scores['tier_score'].quantile(i/10) for i in range(1, 11)]\n",
    "\n",
    "# Assign tiers to each advertiser based on their score\n",
    "def assign_tier(score):\n",
    "    for i, threshold in enumerate(tier_thresholds):\n",
    "        if score <= threshold:\n",
    "            return i+1\n",
    "    return 10\n",
    "\n",
    "# Assign tiers to each advertiser based on their new score\n",
    "unique_advertisers_scores['tier'] = unique_advertisers_scores['tier_score'].apply(assign_tier)\n",
    "\n",
    "# Merge the tiers from the unique_advertisers_scores dataframe to the original data dataframe\n",
    "data = data.merge(unique_advertisers_scores[['avg_ad_revenue', 'tier']], on='avg_ad_revenue', how='left')"
   ]
  },
  {
   "cell_type": "markdown",
   "metadata": {},
   "source": [
    "# Gurobipy Optimization Model (Ads)\n",
    "1. **Decision Variable**\n",
    "- For each ad, $x_i$ represents the priority score for the i-th ad\n",
    "\n",
    "2. **Objective Function**\n",
    "- As we define priority score to be a product of `avg_ad_revenue`, `baseline_st`, `days_diff` (negative correlation) and `tier`, the optimization model will aim to maximize priority score\n",
    "- Hence, the objective function is defined below\n",
    "$$\n",
    "\\sum_{i=1}^{n} \\left( \\beta_1 \\times \\text{avg\\_ad\\_revenue}_i + \\beta_2 \\times \\text{baseline\\_st}_i - \\beta_3 \\times \\text{days\\_diff}_i + \\beta_4 \\times \\text{tier}_i \\right) x_i\n",
    "$$\n",
    "\n",
    "- However, we need to combine the above objective function with a quadratic term to model a normal distribution around from 0-1. The quadratic objective component is below\n",
    "$$\n",
    "\\sum_{i=1}^{n} \\left( x_i - 0.5 \\right)^2\n",
    "$$\n",
    "\n",
    "- Combining the two objective functions, the final objective function is obtained below\n",
    "$$\n",
    "\\sum_{i=1}^{n} \\left( \\beta_1 \\cdot \\text{avg\\_ad\\_revenue}_i + \\beta_2 \\cdot \\text{baseline\\_st}_i - \\beta_3 \\cdot \\text{days\\_diff}_i + \\beta_4 \\cdot \\text{tier}_i \\right) x_i - \\lambda \\sum_{i=1}^{n} \\left( x_i - 0.5 \\right)^2\n",
    "$$\n",
    "where the coefficients $\\beta$ and $\\lambda$ are derived from an iterative training and optimization process of the Gurobi model. By analyzing the results over multiple iterations and adjusting these coefficients, one can refine the model's performance and achieve better task allocations that meet specific business objectives. However for this, we will assume $\\beta_1$ = $\\beta_2$ = $\\beta_3$ = $\\beta_4$ = 0.25 and $\\lambda$ = 20\n",
    "\n",
    "3. Constraints\n",
    "- Mean of $x_i$ = 0.5"
   ]
  },
  {
   "cell_type": "code",
   "execution_count": 64,
   "metadata": {},
   "outputs": [
    {
     "name": "stdout",
     "output_type": "stream",
     "text": [
      "Gurobi Optimizer version 10.0.2 build v10.0.2rc0 (mac64[rosetta2])\n",
      "\n",
      "CPU model: Apple M2\n",
      "Thread count: 8 physical cores, 8 logical processors, using up to 8 threads\n",
      "\n",
      "Optimize a model with 1 rows, 39564 columns and 39564 nonzeros\n",
      "Model fingerprint: 0x998dcdfc\n",
      "Model has 39564 quadratic objective terms\n",
      "Coefficient statistics:\n",
      "  Matrix range     [3e-05, 3e-05]\n",
      "  Objective range  [1e+01, 4e+03]\n",
      "  QObjective range [4e+01, 4e+01]\n",
      "  Bounds range     [1e+00, 1e+00]\n",
      "  RHS range        [5e-01, 5e-01]\n",
      "Presolve time: 0.03s\n",
      "Presolved: 1 rows, 39564 columns, 39564 nonzeros\n",
      "Presolved model has 39564 quadratic objective terms\n",
      "Ordering time: 0.00s\n",
      "\n",
      "Barrier statistics:\n",
      " AA' NZ     : 0.000e+00\n",
      " Factor NZ  : 1.000e+00 (roughly 16 MB of memory)\n",
      " Factor Ops : 1.000e+00 (less than 1 second per iteration)\n",
      " Threads    : 1\n",
      "\n",
      "                  Objective                Residual\n",
      "Iter       Primal          Dual         Primal    Dual     Compl     Time\n",
      "   0  -1.23285838e+10  1.27791719e+10  3.28e+07 6.25e+02  1.00e+06     0s\n",
      "   1  -2.30252221e+07  3.45001753e+08  1.47e+06 2.80e+01  4.87e+04     0s\n",
      "   2   1.52092197e+05  2.66269529e+08  1.47e+00 2.80e-05  3.36e+03     0s\n",
      "   3   1.56650556e+05  1.89799505e+06  7.72e-03 1.47e-07  2.20e+01     0s\n",
      "   4   2.13025639e+05  3.37751934e+05  1.75e-05 3.33e-10  1.58e+00     0s\n",
      "   5   2.19917527e+05  2.22950434e+05  1.28e-09 2.23e-13  3.83e-02     0s\n",
      "   6   2.20327971e+05  2.20424453e+05  8.88e-10 1.29e-13  1.22e-03     0s\n",
      "   7   2.20357880e+05  2.20361761e+05  1.75e-09 1.09e-13  4.91e-05     0s\n",
      "   8   2.20359846e+05  2.20360058e+05  3.20e-09 4.53e-14  2.68e-06     0s\n",
      "   9   2.20359960e+05  2.20359972e+05  8.73e-10 1.41e-13  1.52e-07     0s\n",
      "  10   2.20359966e+05  2.20359966e+05  7.28e-10 4.80e-14  1.01e-08     0s\n",
      "  11   2.20359966e+05  2.20359966e+05  2.39e-09 8.79e-14  5.24e-10     0s\n",
      "\n",
      "Barrier solved model in 11 iterations and 0.42 seconds (0.08 work units)\n",
      "Optimal objective 2.20359966e+05\n",
      "\n"
     ]
    },
    {
     "data": {
      "text/plain": [
       "[0.9999999999999813,\n",
       " 0.9999999999999104,\n",
       " 0.4436669975576987,\n",
       " 0.4420419975577061,\n",
       " 0.4420419975577061]"
      ]
     },
     "execution_count": 64,
     "metadata": {},
     "output_type": "execute_result"
    }
   ],
   "source": [
    "import gurobipy as gp\n",
    "from gurobipy import GRB\n",
    "\n",
    "# Create a new Gurobi model\n",
    "m = gp.Model(\"ad_priority_optimization\")\n",
    "\n",
    "# Constants\n",
    "beta = 0.25\n",
    "n = len(data)\n",
    "\n",
    "# Add decision variables\n",
    "x = m.addVars(n, lb=0, ub=1, name=\"x\")\n",
    "\n",
    "# Weighting factor\n",
    "lambda_factor = 20\n",
    "\n",
    "# Original objective\n",
    "original_obj = gp.quicksum(\n",
    "    (beta * data['avg_ad_revenue'][i] + beta * data['baseline_st'][i] - beta * data['days_diff'][i] + beta * data['tier'][i]) * x[i]\n",
    "    for i in range(n)\n",
    ")\n",
    "\n",
    "# Quadratic objective component\n",
    "quadratic_obj = gp.quicksum((x[i] - 0.5)*(x[i] - 0.5) for i in range(n))\n",
    "\n",
    "# Combined objective\n",
    "m.setObjective(original_obj - lambda_factor * quadratic_obj, GRB.MAXIMIZE)\n",
    "\n",
    "# Add constraint: mean(x) = 0.5\n",
    "m.addConstr(x.sum() / n == 0.5, \"mean_constraint\")\n",
    "\n",
    "# Solve the model\n",
    "m.optimize()\n",
    "\n",
    "# Check if the model has a solution\n",
    "if m.status == GRB.Status.OPTIMAL:\n",
    "    solution_values = [x[i].x for i in range(n)]\n",
    "else:\n",
    "    solution_values = []\n",
    "\n",
    "data['ad_score'] = solution_values"
   ]
  },
  {
   "cell_type": "markdown",
   "metadata": {},
   "source": [
    "**Confidence Metric**\n",
    "\n",
    "`confidence` would be a new feature added to each advertisement and it represents our model's certainty in its prediction regarding the presence or absence of a violation in an ad. A value close to 1 indicates high certainty in the prediction, whether the ad is identified as having a violation or not, while a value close to 0 indicates low certainty\n",
    "\n",
    "It would consist of two components:\n",
    "1. The model confidence determined from our video ___ model. The formula for determining the confidence from the score array of possible violations can be found below."
   ]
  },
  {
   "cell_type": "code",
   "execution_count": 65,
   "metadata": {},
   "outputs": [],
   "source": [
    "# Apply min-max normalization to the punish_num column to create the confidence column\n",
    "min_punish = data['punish_num'].min()\n",
    "max_punish = data['punish_num'].max()\n",
    "\n",
    "data['confidence'] = (data['punish_num'] - min_punish) / (max_punish - min_punish)"
   ]
  }
 ],
 "metadata": {
  "kernelspec": {
   "display_name": "Python 3",
   "language": "python",
   "name": "python3"
  },
  "language_info": {
   "codemirror_mode": {
    "name": "ipython",
    "version": 3
   },
   "file_extension": ".py",
   "mimetype": "text/x-python",
   "name": "python",
   "nbconvert_exporter": "python",
   "pygments_lexer": "ipython3",
   "version": "3.10.10"
  },
  "orig_nbformat": 4
 },
 "nbformat": 4,
 "nbformat_minor": 2
}
